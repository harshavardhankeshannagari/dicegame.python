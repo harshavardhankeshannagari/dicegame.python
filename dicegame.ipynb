{
  "nbformat": 4,
  "nbformat_minor": 0,
  "metadata": {
    "colab": {
      "provenance": [],
      "authorship_tag": "ABX9TyPnK1M+7kCo3YB4LKEbcpxF",
      "include_colab_link": true
    },
    "kernelspec": {
      "name": "python3",
      "display_name": "Python 3"
    },
    "language_info": {
      "name": "python"
    }
  },
  "cells": [
    {
      "cell_type": "markdown",
      "metadata": {
        "id": "view-in-github",
        "colab_type": "text"
      },
      "source": [
        "<a href=\"https://colab.research.google.com/github/harshavardhankeshannagari/dicegame.python/blob/main/dicegame.ipynb\" target=\"_parent\"><img src=\"https://colab.research.google.com/assets/colab-badge.svg\" alt=\"Open In Colab\"/></a>"
      ]
    },
    {
      "cell_type": "code",
      "execution_count": null,
      "metadata": {
        "colab": {
          "base_uri": "https://localhost:8080/"
        },
        "id": "zLQnBWvNkBKP",
        "outputId": "24e67d80-0732-4ca5-e5dc-d4a39274554e"
      },
      "outputs": [
        {
          "output_type": "stream",
          "name": "stdout",
          "text": [
            "_______________________\n",
            "\n",
            "Welcome To Dice Game🎲\n",
            "_______________________\n",
            "\n",
            ">>>Enter Your Guess :  5\n",
            "\n",
            "Rolling 🎲...\n",
            "🎲=1\n",
            "You lost \n",
            "\n"
          ]
        }
      ],
      "source": [
        "import math\n",
        "import random\n",
        "loses=0\n",
        "score=0\n",
        "looprun=0\n",
        "print(\"_______________________\\n\")\n",
        "print(\"Welcome To Dice Game🎲\")\n",
        "print(\"_______________________\\n\")\n",
        "while True:\n",
        "  a=input(\">>>Enter Your Guess :  \")\n",
        "  if a.lower()=='quit':\n",
        "    if score==0:\n",
        "      a1=\"times! \"\n",
        "    elif score==1:\n",
        "      a1=\"time! \"\n",
        "    elif score==2:\n",
        "      a1=\"times! \"\n",
        "    else:\n",
        "      a1=\"times! \"\n",
        "    print(\"\\nThanks for playing the game. You won\",score, a1 )\n",
        "    exit()\n",
        "  def dice_game(user_guess,loses,score):\n",
        "    if user_guess>6:\n",
        "      print(\"\\n\\nEnter a valid guess within the range 1-6\\n\")\n",
        "    else:\n",
        "      print(\"\\nRolling 🎲...\")\n",
        "      dice_value=random.randint(1,6)\n",
        "      print(\"🎲\"+ \"=\"+str(dice_value))\n",
        "      if user_guess==dice_value:\n",
        "        print(\"Congratulations You won!!! \\n\")\n",
        "        score+=1\n",
        "      else:\n",
        "        if loses>0:\n",
        "          print(\"You lost again  but don't give up keep trying!\\n\")\n",
        "        else:\n",
        "          print(\"You lost \\n\")\n",
        "          loses+=1\n",
        "    b=[loses,score]\n",
        "    return b       \n",
        "  b=dice_game(int(a),loses,score)\n",
        "  loses=b[0]\n",
        "  score=b[1]\n",
        "\n"
      ]
    }
  ]
}